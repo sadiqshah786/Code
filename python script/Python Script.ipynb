{
 "cells": [
  {
   "cell_type": "code",
   "execution_count": 11,
   "metadata": {},
   "outputs": [
    {
     "name": "stdout",
     "output_type": "stream",
     "text": [
      "Enter directory path to search : C:\\\\Users\\\\ARC\\\\Desktop\\\\python script\n",
      "File Type : .txt\n",
      "Enter the search string : the\n",
      "\n",
      "Number of \"the\" accurance is 3 times in Paragraph\n",
      "\n",
      "File Name file.txt |  Line : 1  |  Number of String  Placement :  72\n",
      "Shahi Mughlai Chicken Korma is a rich, creamy and delicious recipe from the royal kitchens of Mughals. This is one of the most popular recipe and you find it as a star recipe in any restaurant which specialises in Mughlai Cuisine. Mughlai Cuisine is always known for its aroma, taste, flavour and unique blend of spices. Unveiling the magic spice tale, to seduce your taste buds though this Shahi Mughlai Chicken Korma.\n",
      "\n",
      "\n",
      "\n",
      "Number of \"the\" accurance is 4 times in Paragraph\n",
      "\n",
      "File Name file.txt |  Line : 2  |  Number of String  Placement :  176\n",
      "Korma in Mughlai Cuisine is often referred to thick and creamy gravy-based curries. The creaminess always come from nuts like almonds, cashews, chironji, etc. The spiciness in the recipe comes from cloves, cinnamon, etc. Every korma recipe is different in Mughlai Cuisine; the choice of spices and nuts totally depends on the main ingredient. Mughlai Chicken Korma is often served with naan, paratha or roti. This korma also tastes best when served with flavoured rice like Jeera Rice, Ghee Rice, Bagara Khana, Coconut Rice, etc. You can even serve this with plain white rice.Thoroughly wash chicken pieces and pat them dry.\n",
      "\n",
      "\n",
      "\n",
      "Number of \"the\" accurance is 1 times in Paragraph\n",
      "\n",
      "File Name file.txt |  Line : 4  |  Number of String  Placement :  37\n",
      "Heat oil and fry sliced onions until they turn light brown. Drain and add this to mixer jar along with dry roasted almonds and cashews. Make a thick fine paste by adding little water.\n",
      "\n",
      "\n",
      "\n",
      "Number of \"the\" accurance is 1 times in Paragraph\n",
      "\n",
      "File Name file.txt |  Line : 6  |  Number of String  Placement :  98\n",
      "To this add chicken pieces and mix well. Using your hand (wear glove, if sensitive to spices) rub the chicken pieces to get coated with masala. Cover and set aside for 30-60 minutes.\n",
      "\n",
      "\n",
      "\n",
      "Number of \"the\" accurance is 4 times in Paragraph\n",
      "\n",
      "File Name file.txt |  Line : 7  |  Number of String  Placement :  18\n",
      "{Always remember, the more the marination time, the tastier the curry\n",
      "\n",
      "\n",
      "\n",
      "Number of \"the\" accurance is 1 times in Paragraph\n",
      "\n",
      "File Name file.txt |  Line : 8  |  Number of String  Placement :  43\n",
      "In a heavy bottom vessel, add oil (you use the oil in which you fried onions) and to this add bay leaf, cardamom, cloves and cinnamon stick.\n",
      "\n",
      "\n",
      "\n",
      "Number of \"the\" accurance is 1 times in Paragraph\n",
      "\n",
      "File Name file.txt |  Line : 9  |  Number of String  Placement :  28\n",
      "Fry for a minute and remove the spices (bay leaf, cardamom, clove and cinnamon) from oil. Now add marinated chicken and fry on high by stirring for 5-6 minutes.\n",
      "\n",
      "\n",
      "\n",
      "Number of \"the\" accurance is 1 times in Paragraph\n",
      "\n",
      "File Name file.txt |  Line : 10  |  Number of String  Placement :  139\n",
      "Add Â¾ cup of water and cover with a lid. Cook on low flame for 25-30 minutes by stirring occasionally. Sprinkle garam masala and turn off the flame.\n",
      "\n",
      "\n",
      "\n",
      "Number of \"the\" accurance is 2 times in Paragraph\n",
      "\n",
      "File Name file.txt |  Line : 11  |  Number of String  Placement :  6\n",
      "Leave the curry on stove for 10 minutes before opening the lid. Garnish with fresh minced coriander leaves and serve warm with roti or rice.\n",
      "\n",
      "\n"
     ]
    }
   ],
   "source": [
    "#Import os module\n",
    "import os\n",
    "\n",
    "# Users Input\n",
    "search_path = input(\"Enter directory path to search : \")\n",
    "file_type = input(\"File Type : \")\n",
    "search_str = input(\"Enter the search string : \")\n",
    "\n",
    "# Append a directory separator if not already present\n",
    "if not (search_path.endswith(\"/\") or search_path.endswith(\"\\\\\") ): \n",
    "        search_path = search_path + \"/\"\n",
    "                                                          \n",
    "# If path does not exist, set search path to current directory\n",
    "if not os.path.exists(search_path):\n",
    "        search_path =\".\"\n",
    "\n",
    "# # Repeat for each file in the directory  \n",
    "for fname in os.listdir(path=search_path):\n",
    "\n",
    "   # Apply file type filter   \n",
    "   if fname.endswith(file_type):\n",
    "\n",
    "        # Open file for reading\n",
    "        Open = open(search_path + fname)\n",
    "\n",
    "        # Read the first line from the file\n",
    "        lines = Open.readline()\n",
    "\n",
    "        # Initialize counter for line number\n",
    "        line_no = 1\n",
    "\n",
    "        # Loop until EOF\n",
    "        \n",
    "        while lines != '' :\n",
    "                # Search for string in line\n",
    "                index = lines.find(search_str)\n",
    "                count = lines.count(search_str)\n",
    "\n",
    "                \n",
    "                if ( index != -1) :\n",
    "                    print(f'\\nNumber of \"{search_str}\" accurance is {count} times in Paragraph\\n')\n",
    "                    print(\"File Name \" , fname, \" |  Line : \", line_no, \"  |  Number of String  Placement :  \", index, \"\\n\" , lines,\"\\n\", sep=\"\")\n",
    "\n",
    "                # Read next linea\n",
    "                lines = Open.readline()  \n",
    "\n",
    "                # Increment line counter\n",
    "                line_no += 1\n",
    "        # Close the files\n",
    "       \n",
    "        Open.close()"
   ]
  },
  {
   "cell_type": "code",
   "execution_count": 2,
   "metadata": {},
   "outputs": [
    {
     "data": {
      "text/plain": [
       "'C:\\\\Users\\\\ARC\\\\Desktop\\\\python script'"
      ]
     },
     "execution_count": 2,
     "metadata": {},
     "output_type": "execute_result"
    }
   ],
   "source": [
    "pwd"
   ]
  },
  {
   "cell_type": "code",
   "execution_count": null,
   "metadata": {},
   "outputs": [],
   "source": []
  }
 ],
 "metadata": {
  "kernelspec": {
   "display_name": "Python 3",
   "language": "python",
   "name": "python3"
  },
  "language_info": {
   "codemirror_mode": {
    "name": "ipython",
    "version": 3
   },
   "file_extension": ".py",
   "mimetype": "text/x-python",
   "name": "python",
   "nbconvert_exporter": "python",
   "pygments_lexer": "ipython3",
   "version": "3.7.6"
  }
 },
 "nbformat": 4,
 "nbformat_minor": 4
}
